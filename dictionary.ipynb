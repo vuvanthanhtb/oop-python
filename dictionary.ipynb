{
 "cells": [
  {
   "cell_type": "code",
   "execution_count": 2,
   "id": "bb81a27e",
   "metadata": {},
   "outputs": [
    {
     "name": "stdout",
     "output_type": "stream",
     "text": [
      "<class 'dict'>\n"
     ]
    }
   ],
   "source": [
    "# difining dictionaries\n",
    "# empty dictionary\n",
    "empty_dict = {}\n",
    "print(type(empty_dict))"
   ]
  },
  {
   "cell_type": "code",
   "execution_count": 3,
   "id": "9a77f2aa",
   "metadata": {},
   "outputs": [
    {
     "name": "stdout",
     "output_type": "stream",
     "text": [
      "<class 'dict'>\n"
     ]
    }
   ],
   "source": [
    "# dictionary with integer keys\n",
    "int_keys_dict = {1: 'apple', 2: 'banana', 3: 'cherry'}\n",
    "print(type(int_keys_dict))"
   ]
  },
  {
   "cell_type": "code",
   "execution_count": 4,
   "id": "d54cce28",
   "metadata": {},
   "outputs": [
    {
     "name": "stdout",
     "output_type": "stream",
     "text": [
      "<class 'dict'>\n"
     ]
    }
   ],
   "source": [
    "# dictionary with mixed keys\n",
    "mixed_keys_dict = {'name': 'Alice', 1: [1, 2, 3], (2, 3): 'tuple_key'}\n",
    "print(type(mixed_keys_dict))"
   ]
  },
  {
   "cell_type": "code",
   "execution_count": 6,
   "id": "276a2d33",
   "metadata": {},
   "outputs": [
    {
     "name": "stdout",
     "output_type": "stream",
     "text": [
      "<class 'dict'>\n"
     ]
    }
   ],
   "source": [
    "# using built-in dict() function\n",
    "dict_from_function = dict({1:'msft', 2:'IT'})\n",
    "print(type(dict_from_function))"
   ]
  },
  {
   "cell_type": "code",
   "execution_count": 7,
   "id": "1980acb6",
   "metadata": {},
   "outputs": [
    {
     "name": "stdout",
     "output_type": "stream",
     "text": [
      "<class 'dict'>\n"
     ]
    }
   ],
   "source": [
    "# from sequence having each item as a pair\n",
    "seq_of_pairs = dict([(1,'msft'), (2,'IT')])\n",
    "print(type(seq_of_pairs))"
   ]
  },
  {
   "cell_type": "code",
   "execution_count": 8,
   "id": "8b5c28b4",
   "metadata": {},
   "outputs": [
    {
     "name": "stdout",
     "output_type": "stream",
     "text": [
      "Empty dictionary: {}\n",
      "Dictionary with integer keys: {1: 'apple', 2: 'banana', 3: 'cherry'}\n",
      "Dictionary with mixed keys: {'name': 'Alice', 1: [1, 2, 3], (2, 3): 'tuple_key'}\n",
      "Dictionary from function: {1: 'msft', 2: 'IT'}\n",
      "Dictionary from sequence of pairs: {1: 'msft', 2: 'IT'}\n"
     ]
    }
   ],
   "source": [
    "print('Empty dictionary:', empty_dict)\n",
    "print('Dictionary with integer keys:', int_keys_dict)\n",
    "print('Dictionary with mixed keys:', mixed_keys_dict)\n",
    "print('Dictionary from function:', dict_from_function)\n",
    "print('Dictionary from sequence of pairs:', seq_of_pairs)"
   ]
  },
  {
   "cell_type": "code",
   "execution_count": 10,
   "id": "e5d78caf",
   "metadata": {},
   "outputs": [
    {
     "data": {
      "text/plain": [
       "'msft'"
      ]
     },
     "execution_count": 10,
     "metadata": {},
     "output_type": "execute_result"
    }
   ],
   "source": [
    "# accessing elements of a dictionary\n",
    "seq_of_pairs[1]"
   ]
  },
  {
   "cell_type": "code",
   "execution_count": 11,
   "id": "2f1c1df2",
   "metadata": {},
   "outputs": [
    {
     "data": {
      "text/plain": [
       "'IT'"
      ]
     },
     "execution_count": 11,
     "metadata": {},
     "output_type": "execute_result"
    }
   ],
   "source": [
    "seq_of_pairs[2]"
   ]
  },
  {
   "cell_type": "code",
   "execution_count": 12,
   "id": "7c107d3d",
   "metadata": {},
   "outputs": [
    {
     "ename": "KeyError",
     "evalue": "'IT'",
     "output_type": "error",
     "traceback": [
      "\u001b[31m---------------------------------------------------------------------------\u001b[39m",
      "\u001b[31mKeyError\u001b[39m                                  Traceback (most recent call last)",
      "\u001b[36mCell\u001b[39m\u001b[36m \u001b[39m\u001b[32mIn[12]\u001b[39m\u001b[32m, line 1\u001b[39m\n\u001b[32m----> \u001b[39m\u001b[32m1\u001b[39m \u001b[43mseq_of_pairs\u001b[49m\u001b[43m[\u001b[49m\u001b[33;43m'\u001b[39;49m\u001b[33;43mIT\u001b[39;49m\u001b[33;43m'\u001b[39;49m\u001b[43m]\u001b[49m\n",
      "\u001b[31mKeyError\u001b[39m: 'IT'"
     ]
    }
   ],
   "source": [
    "seq_of_pairs['IT']"
   ]
  },
  {
   "cell_type": "code",
   "execution_count": 13,
   "id": "ec6eb66b",
   "metadata": {},
   "outputs": [
    {
     "name": "stdout",
     "output_type": "stream",
     "text": [
      "Modified dictionary: {1: 'microsoft', 2: 'IT'}\n"
     ]
    }
   ],
   "source": [
    "# modifying a dictionary\n",
    "seq_of_pairs[1] = 'microsoft'\n",
    "print('Modified dictionary:', seq_of_pairs)"
   ]
  },
  {
   "cell_type": "code",
   "execution_count": 14,
   "id": "287b9f7e",
   "metadata": {},
   "outputs": [
    {
     "name": "stdout",
     "output_type": "stream",
     "text": [
      "Dictionary after adding new entry: {1: 'microsoft', 2: 'IT', 3: 'vinaphone'}\n"
     ]
    }
   ],
   "source": [
    "seq_of_pairs[3] = 'vinaphone'\n",
    "print('Dictionary after adding new entry:', seq_of_pairs)"
   ]
  },
  {
   "cell_type": "code",
   "execution_count": 15,
   "id": "17d14ad1",
   "metadata": {},
   "outputs": [
    {
     "name": "stdout",
     "output_type": "stream",
     "text": [
      "Dictionary after adding new key with list value: {1: 'microsoft', 2: 'IT', 3: 'vinaphone', 'HCM': 'Ho Chi Minh City'}\n"
     ]
    }
   ],
   "source": [
    "# mixing data types in a dictionary\n",
    "seq_of_pairs['HCM'] = 'Ho Chi Minh City'\n",
    "print('Dictionary after adding new key with list value:', seq_of_pairs)"
   ]
  },
  {
   "cell_type": "code",
   "execution_count": 16,
   "id": "c445f066",
   "metadata": {},
   "outputs": [
    {
     "name": "stdout",
     "output_type": "stream",
     "text": [
      "Dictionary after deleting key 2: {1: 'microsoft', 3: 'vinaphone', 'HCM': 'Ho Chi Minh City'}\n"
     ]
    }
   ],
   "source": [
    "# deleting items from a dictionary\n",
    "del seq_of_pairs[2]\n",
    "print('Dictionary after deleting key 2:', seq_of_pairs)"
   ]
  },
  {
   "cell_type": "code",
   "execution_count": 17,
   "id": "0587102a",
   "metadata": {},
   "outputs": [
    {
     "name": "stdout",
     "output_type": "stream",
     "text": [
      "Dictionary after clearing all items: {}\n"
     ]
    }
   ],
   "source": [
    "seq_of_pairs.clear()\n",
    "print('Dictionary after clearing all items:', seq_of_pairs)"
   ]
  }
 ],
 "metadata": {
  "kernelspec": {
   "display_name": "oop-python",
   "language": "python",
   "name": "python3"
  },
  "language_info": {
   "codemirror_mode": {
    "name": "ipython",
    "version": 3
   },
   "file_extension": ".py",
   "mimetype": "text/x-python",
   "name": "python",
   "nbconvert_exporter": "python",
   "pygments_lexer": "ipython3",
   "version": "3.12.9"
  }
 },
 "nbformat": 4,
 "nbformat_minor": 5
}
