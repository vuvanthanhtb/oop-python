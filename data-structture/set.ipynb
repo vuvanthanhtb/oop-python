{
 "cells": [
  {
   "cell_type": "code",
   "execution_count": 2,
   "id": "c60e5528",
   "metadata": {},
   "outputs": [
    {
     "name": "stdout",
     "output_type": "stream",
     "text": [
      "{1, 2, 3, 4, 5}\n"
     ]
    }
   ],
   "source": [
    "# set of intergers\n",
    "my_set = {1, 2, 3, 4, 5}\n",
    "print(my_set)"
   ]
  },
  {
   "cell_type": "code",
   "execution_count": 3,
   "id": "4590c31a",
   "metadata": {},
   "outputs": [
    {
     "name": "stdout",
     "output_type": "stream",
     "text": [
      "{1, 2.5, (1, 2), 'Hello'}\n"
     ]
    }
   ],
   "source": [
    "# set of mixed data types\n",
    "my_set2 = {1, 2.5, \"Hello\", (1, 2)}\n",
    "print(my_set2)"
   ]
  },
  {
   "cell_type": "code",
   "execution_count": 4,
   "id": "1bb4b84c",
   "metadata": {},
   "outputs": [
    {
     "name": "stdout",
     "output_type": "stream",
     "text": [
      "{'Python', 'C++', 'Java'}\n",
      "{'Python', 'C++', 'JavaScript', 'Java'}\n"
     ]
    }
   ],
   "source": [
    "# methods for sets\n",
    "# add method\n",
    "topic = {\"Python\", \"Java\", \"C++\"}\n",
    "print(topic)\n",
    "topic.add(\"JavaScript\")\n",
    "print(topic)"
   ]
  },
  {
   "cell_type": "code",
   "execution_count": 7,
   "id": "8fd4a556",
   "metadata": {},
   "outputs": [
    {
     "name": "stdout",
     "output_type": "stream",
     "text": [
      "{'Ruby', 'Go', 'C++'}\n",
      "{'Python', 'C++', 'JavaScript', 'Java'}\n",
      "{'JavaScript', 'Ruby', 'Python', 'Go', 'C++', 'Java'}\n"
     ]
    }
   ],
   "source": [
    "# union method\n",
    "topic2 = {\"Ruby\", \"Go\", \"C++\"}\n",
    "print(topic2)\n",
    "print(topic)\n",
    "print(topic.union(topic2))"
   ]
  },
  {
   "cell_type": "code",
   "execution_count": 9,
   "id": "7c08eac8",
   "metadata": {},
   "outputs": [
    {
     "name": "stdout",
     "output_type": "stream",
     "text": [
      "{'Ruby', 'Go', 'C++'}\n",
      "{'Python', 'C++', 'JavaScript', 'Java'}\n",
      "{'C++'}\n"
     ]
    }
   ],
   "source": [
    "# intersets(s) method, returns an intersection of two sets\n",
    "print(topic2)\n",
    "print(topic)\n",
    "print(topic.intersection(topic2))"
   ]
  },
  {
   "cell_type": "code",
   "execution_count": 10,
   "id": "c0a5708f",
   "metadata": {},
   "outputs": [
    {
     "name": "stdout",
     "output_type": "stream",
     "text": [
      "{'Ruby', 'Go', 'C++'}\n",
      "{'Python', 'C++', 'JavaScript', 'Java'}\n",
      "{'Python', 'JavaScript', 'Java'}\n"
     ]
    }
   ],
   "source": [
    "# difference(s) Method, returns a set containing all the elements of invoking set but not of the second set.\n",
    "print(topic2)\n",
    "print(topic)\n",
    "print(topic.difference(topic2))"
   ]
  },
  {
   "cell_type": "code",
   "execution_count": 11,
   "id": "5257b234",
   "metadata": {},
   "outputs": [
    {
     "name": "stdout",
     "output_type": "stream",
     "text": [
      "set()\n"
     ]
    }
   ],
   "source": [
    "# clear() Method, Empties the whole set.\n",
    "topic.clear()\n",
    "print(topic)"
   ]
  },
  {
   "cell_type": "code",
   "execution_count": 12,
   "id": "02a7bd60",
   "metadata": {},
   "outputs": [
    {
     "name": "stdout",
     "output_type": "stream",
     "text": [
      "Set 1: {1, 2, 3, 4}\n",
      "Set 2: {4, 5, 6, 7, 8}\n"
     ]
    }
   ],
   "source": [
    "# Python Set Operators\n",
    "#Creating two sets\n",
    "set1  = set()\n",
    "set2 = set()\n",
    "\n",
    "# Adding elements to set\n",
    "for i in range(1, 5):\n",
    "    set1.add(i)\n",
    "\n",
    "for i in range(4, 9):\n",
    "    set2.add(i)\n",
    "\n",
    "# Displaying the sets\n",
    "print(\"Set 1:\", set1)\n",
    "print(\"Set 2:\", set2)"
   ]
  },
  {
   "cell_type": "code",
   "execution_count": 13,
   "id": "2e3c1a88",
   "metadata": {},
   "outputs": [
    {
     "name": "stdout",
     "output_type": "stream",
     "text": [
      "Union of set1 and set2: {1, 2, 3, 4, 5, 6, 7, 8}\n"
     ]
    }
   ],
   "source": [
    "# Union of set1 and set2\n",
    "set3 = set1 | set2 # same as set1.union(set2)\n",
    "print(\"Union of set1 and set2:\", set3)"
   ]
  },
  {
   "cell_type": "code",
   "execution_count": 14,
   "id": "5dbf5b63",
   "metadata": {},
   "outputs": [
    {
     "name": "stdout",
     "output_type": "stream",
     "text": [
      "Intersection of set1 and set2: {4}\n"
     ]
    }
   ],
   "source": [
    "# Intersection of set1 & set2 (same as set1.intersection(set2))\n",
    "set4 = set1 & set2\n",
    "print(\"Intersection of set1 and set2:\", set4)"
   ]
  },
  {
   "cell_type": "code",
   "execution_count": 15,
   "id": "da57c493",
   "metadata": {},
   "outputs": [
    {
     "name": "stdout",
     "output_type": "stream",
     "text": [
      "Set3 is a superset of Set4\n"
     ]
    }
   ],
   "source": [
    "# Checking relation between set3 and set4\n",
    "if set3 > set4: # set3.issuperset(set4)\n",
    "    print(\"Set3 is a superset of Set4\")\n",
    "elif set3 < set4: # set3.issubset(set4)\n",
    "    print(\"Set3 is a subset of Set4\")\n",
    "else: # set3 == set4\n",
    "    print(\"Set 3 is same as set4\")"
   ]
  },
  {
   "cell_type": "code",
   "execution_count": 16,
   "id": "f3dd9aa9",
   "metadata": {},
   "outputs": [
    {
     "name": "stdout",
     "output_type": "stream",
     "text": [
      "Difference between set3 and set4: {1, 2, 3, 5, 6, 7, 8}\n"
     ]
    }
   ],
   "source": [
    "# Difference between set3 and set4\n",
    "set5 = set3 - set4  # same as set3.difference(set4)\n",
    "print(\"Difference between set3 and set4:\", set5)"
   ]
  },
  {
   "cell_type": "code",
   "execution_count": 17,
   "id": "9292e5b6",
   "metadata": {},
   "outputs": [
    {
     "name": "stdout",
     "output_type": "stream",
     "text": [
      "Set4 and set5 have nothing in common\n"
     ]
    }
   ],
   "source": [
    "# Check if set4 and set5 are disjoint sets\n",
    "if set4.isdisjoint(set5):\n",
    "    print(\"Set4 and set5 have nothing in common\")"
   ]
  },
  {
   "cell_type": "code",
   "execution_count": 18,
   "id": "5a621d1f",
   "metadata": {},
   "outputs": [
    {
     "name": "stdout",
     "output_type": "stream",
     "text": [
      "Set5 after clearing: set()\n"
     ]
    }
   ],
   "source": [
    "# Removing all the values of set5\n",
    "set5.clear()\n",
    "print(\"Set5 after clearing:\", set5)"
   ]
  }
 ],
 "metadata": {
  "kernelspec": {
   "display_name": "oop-python",
   "language": "python",
   "name": "python3"
  },
  "language_info": {
   "codemirror_mode": {
    "name": "ipython",
    "version": 3
   },
   "file_extension": ".py",
   "mimetype": "text/x-python",
   "name": "python",
   "nbconvert_exporter": "python",
   "pygments_lexer": "ipython3",
   "version": "3.12.9"
  }
 },
 "nbformat": 4,
 "nbformat_minor": 5
}
