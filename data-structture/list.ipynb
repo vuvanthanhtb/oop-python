{
 "cells": [
  {
   "cell_type": "code",
   "execution_count": 1,
   "id": "a3ef2c09",
   "metadata": {},
   "outputs": [
    {
     "name": "stdout",
     "output_type": "stream",
     "text": [
      "<class 'list'>\n"
     ]
    }
   ],
   "source": [
    "# any empty list\n",
    "empty_list = []\n",
    "print(type(empty_list))"
   ]
  },
  {
   "cell_type": "code",
   "execution_count": 2,
   "id": "f232fccb",
   "metadata": {},
   "outputs": [
    {
     "name": "stdout",
     "output_type": "stream",
     "text": [
      "<class 'list'>\n"
     ]
    }
   ],
   "source": [
    "# a list of string\n",
    "str_list = ['Life', 'is', 'beautiful']\n",
    "print(type(str_list))"
   ]
  },
  {
   "cell_type": "code",
   "execution_count": 3,
   "id": "1ffd69f5",
   "metadata": {},
   "outputs": [
    {
     "name": "stdout",
     "output_type": "stream",
     "text": [
      "<class 'list'>\n"
     ]
    }
   ],
   "source": [
    "# a list of integers\n",
    "int_list = [1, 2, 3, 4, 5]\n",
    "print(type(int_list))"
   ]
  },
  {
   "cell_type": "code",
   "execution_count": 4,
   "id": "e9923c46",
   "metadata": {},
   "outputs": [
    {
     "name": "stdout",
     "output_type": "stream",
     "text": [
      "<class 'list'>\n"
     ]
    }
   ],
   "source": [
    "# mixed items list\n",
    "mixed_list = ['Hello', 42, 3.14, True]\n",
    "print(type(mixed_list))"
   ]
  },
  {
   "cell_type": "code",
   "execution_count": 5,
   "id": "03176248",
   "metadata": {},
   "outputs": [
    {
     "name": "stdout",
     "output_type": "stream",
     "text": [
      "Empty List: []\n",
      "String List: ['Life', 'is', 'beautiful']\n",
      "Integer List: [1, 2, 3, 4, 5]\n",
      "Mixed List: ['Hello', 42, 3.14, True]\n"
     ]
    }
   ],
   "source": [
    "# to prinnt the lists\n",
    "print(\"Empty List:\", empty_list)\n",
    "print(\"String List:\", str_list)\n",
    "print(\"Integer List:\", int_list)\n",
    "print(\"Mixed List:\", mixed_list)"
   ]
  },
  {
   "cell_type": "code",
   "execution_count": 6,
   "id": "52538e51",
   "metadata": {},
   "outputs": [],
   "source": [
    "# accessing items in python list\n",
    "mixed_list = ['This', 'is', 18, 45.9, 'a', 54, 'mixed', 99, 'list']"
   ]
  },
  {
   "cell_type": "code",
   "execution_count": 7,
   "id": "f5d74acf",
   "metadata": {},
   "outputs": [
    {
     "name": "stdout",
     "output_type": "stream",
     "text": [
      "This\n"
     ]
    }
   ],
   "source": [
    "# to access the first item of the list\n",
    "print(mixed_list[0])"
   ]
  },
  {
   "cell_type": "code",
   "execution_count": 9,
   "id": "b5409488",
   "metadata": {},
   "outputs": [
    {
     "name": "stdout",
     "output_type": "stream",
     "text": [
      "45.9\n"
     ]
    }
   ],
   "source": [
    "# to access the 4th item\n",
    "print(mixed_list[3])"
   ]
  },
  {
   "cell_type": "code",
   "execution_count": 10,
   "id": "6a7dc025",
   "metadata": {},
   "outputs": [
    {
     "name": "stdout",
     "output_type": "stream",
     "text": [
      "list\n"
     ]
    }
   ],
   "source": [
    "# to access the last item of the list\n",
    "print(mixed_list[-1])"
   ]
  }
 ],
 "metadata": {
  "kernelspec": {
   "display_name": "oop-python",
   "language": "python",
   "name": "python3"
  },
  "language_info": {
   "codemirror_mode": {
    "name": "ipython",
    "version": 3
   },
   "file_extension": ".py",
   "mimetype": "text/x-python",
   "name": "python",
   "nbconvert_exporter": "python",
   "pygments_lexer": "ipython3",
   "version": "3.12.9"
  }
 },
 "nbformat": 4,
 "nbformat_minor": 5
}
