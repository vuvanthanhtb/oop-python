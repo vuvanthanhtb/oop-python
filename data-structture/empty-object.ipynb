{
 "cells": [
  {
   "cell_type": "code",
   "execution_count": 1,
   "id": "06c31f03",
   "metadata": {},
   "outputs": [
    {
     "ename": "AttributeError",
     "evalue": "'object' object has no attribute 'x'",
     "output_type": "error",
     "traceback": [
      "\u001b[31m---------------------------------------------------------------------------\u001b[39m",
      "\u001b[31mAttributeError\u001b[39m                            Traceback (most recent call last)",
      "\u001b[36mCell\u001b[39m\u001b[36m \u001b[39m\u001b[32mIn[1]\u001b[39m\u001b[32m, line 2\u001b[39m\n\u001b[32m      1\u001b[39m obj = \u001b[38;5;28mobject\u001b[39m()\n\u001b[32m----> \u001b[39m\u001b[32m2\u001b[39m \u001b[43mobj\u001b[49m\u001b[43m.\u001b[49m\u001b[43mx\u001b[49m = \u001b[32m9\u001b[39m\n",
      "\u001b[31mAttributeError\u001b[39m: 'object' object has no attribute 'x'"
     ]
    }
   ],
   "source": [
    "obj = object()\n",
    "obj.x = 9"
   ]
  },
  {
   "cell_type": "code",
   "execution_count": 2,
   "id": "d71c4faf",
   "metadata": {},
   "outputs": [
    {
     "name": "stdout",
     "output_type": "stream",
     "text": [
      "9\n"
     ]
    }
   ],
   "source": [
    "class EmpObject:\n",
    "    pass\n",
    "\n",
    "obj = EmpObject()\n",
    "obj.x = 9\n",
    "\n",
    "print(obj.x)"
   ]
  }
 ],
 "metadata": {
  "kernelspec": {
   "display_name": "oop-python",
   "language": "python",
   "name": "python3"
  },
  "language_info": {
   "codemirror_mode": {
    "name": "ipython",
    "version": 3
   },
   "file_extension": ".py",
   "mimetype": "text/x-python",
   "name": "python",
   "nbconvert_exporter": "python",
   "pygments_lexer": "ipython3",
   "version": "3.12.9"
  }
 },
 "nbformat": 4,
 "nbformat_minor": 5
}
